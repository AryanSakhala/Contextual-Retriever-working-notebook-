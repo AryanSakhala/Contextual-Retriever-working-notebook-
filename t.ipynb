{
 "cells": [
  {
   "cell_type": "markdown",
   "metadata": {},
   "source": [
    "### Import libraries"
   ]
  },
  {
   "cell_type": "code",
   "execution_count": 1,
   "metadata": {},
   "outputs": [
    {
     "name": "stderr",
     "output_type": "stream",
     "text": [
      "/home/user/.cache/pypoetry/virtualenvs/speak-diar-vSM-dlU2-py3.10/lib/python3.10/site-packages/tqdm/auto.py:21: TqdmWarning: IProgress not found. Please update jupyter and ipywidgets. See https://ipywidgets.readthedocs.io/en/stable/user_install.html\n",
      "  from .autonotebook import tqdm as notebook_tqdm\n"
     ]
    }
   ],
   "source": [
    "\n",
    "from llama_index.llms.openai_like import OpenAILike\n",
    "\n",
    "from llama_index.embeddings.openai import OpenAIEmbedding\n",
    "from llama_index.core import Settings\n",
    "from llama_index.core import SimpleDirectoryReader\n",
    "from llama_index.core import (\n",
    "   \n",
    "    Settings,\n",
    "    StorageContext,\n",
    "    VectorStoreIndex,\n",
    ")\n",
    "\n",
    "from llama_index.core.llms import ChatMessage\n",
    "from llama_index.vector_stores.milvus import MilvusVectorStore\n",
    "\n",
    "from llama_index.embeddings.huggingface import HuggingFaceEmbedding"
   ]
  },
  {
   "cell_type": "markdown",
   "metadata": {},
   "source": [
    "### Parameter & models & Settings"
   ]
  },
  {
   "cell_type": "code",
   "execution_count": 3,
   "metadata": {},
   "outputs": [],
   "source": [
    "Settings.embed_model = HuggingFaceEmbedding(model_name=\"BAAI/bge-small-en-v1.5\")\n",
    "\n",
    "similarity_top_k = 3\n",
    "llm = OpenAILike(\n",
    "        model=\"meta-llama/Llama-3.1-70B-Instruct\",\n",
    "        api_base=\"<YOUR_API_URI>\",\n",
    "        api_key=\"test123\",\n",
    "        \n",
    "        temperature=0,\n",
    "        max_tokens=1024\n",
    "    )\n"
   ]
  },
  {
   "cell_type": "markdown",
   "metadata": {},
   "source": [
    "### Loading Documents"
   ]
  },
  {
   "cell_type": "code",
   "execution_count": 2,
   "metadata": {},
   "outputs": [],
   "source": [
    "documents = SimpleDirectoryReader(\n",
    "    \"<PATH_TO_FOLDER_WHERE_ALL_DOCUMENTS_ARE_PRESENT>\",\n",
    ").load_data()\n"
   ]
  },
  {
   "cell_type": "markdown",
   "metadata": {},
   "source": [
    "### Contextual Node Creation"
   ]
  },
  {
   "cell_type": "code",
   "execution_count": 34,
   "metadata": {},
   "outputs": [],
   "source": [
    "def create_contextual_nodes(nodes_):\n",
    "    \"\"\"Function to create contextual nodes for a list of nodes\"\"\"\n",
    "    nodes_modified = []\n",
    "    for node in nodes_:\n",
    "        new_node = copy.deepcopy(node)\n",
    "        messages = [\n",
    "            ChatMessage(role=\"system\", content=\"You are helpful AI Assitant.\"),\n",
    "            ChatMessage(\n",
    "                role=\"user\",\n",
    "                content=[\n",
    "                    \n",
    "                    {\n",
    "                        \"text\": prompt_chunk.format(CHUNK_CONTENT=node.text),\n",
    "                        \"type\": \"text\",\n",
    "                    },\n",
    "                ],\n",
    "            ),\n",
    "        ]\n",
    "        new_node.metadata[\"context\"] = str(\n",
    "            llm.chat(\n",
    "                messages,\n",
    "            )\n",
    "        )\n",
    "        nodes_modified.append(new_node)\n",
    "\n",
    "    return nodes_modified\n",
    "\n"
   ]
  },
  {
   "cell_type": "markdown",
   "metadata": {},
   "source": [
    "### Contextual Embdedding"
   ]
  },
  {
   "cell_type": "code",
   "execution_count": 35,
   "metadata": {},
   "outputs": [],
   "source": [
    "\n",
    "def create_embedding_retriever_contextual(nodes_, similarity_top_k=2):\n",
    "    \"\"\"Function to create an embedding retriever for a list of nodes\"\"\"\n",
    "    vector_store = MilvusVectorStore(\n",
    "            uri=\"http://localhost:19530\", collection_name=\"scenarios_contextual\", dim=384,overwrite=True\n",
    "        )\n",
    "   \n",
    "    storage_context = StorageContext.from_defaults(\n",
    "            vector_store=vector_store\n",
    "        )\n",
    "    index = VectorStoreIndex(\n",
    "            nodes_, storage_context=storage_context\n",
    "        )\n",
    "   \n",
    "    return index\n",
    "\n",
    "\n",
    "\n"
   ]
  },
  {
   "cell_type": "markdown",
   "metadata": {},
   "source": [
    "### Normal Embedding For comaparison...."
   ]
  },
  {
   "cell_type": "code",
   "execution_count": null,
   "metadata": {},
   "outputs": [],
   "source": [
    "def create_embedding_retriever(nodes_, similarity_top_k=2):\n",
    "    \"\"\"Function to create an embedding retriever for a list of nodes\"\"\"\n",
    "    vector_store = MilvusVectorStore(\n",
    "            uri=\"http://localhost:19530\", collection_name=\"scenarios\", dim=384,overwrite=True\n",
    "        )\n",
    "   \n",
    "    storage_context = StorageContext.from_defaults(\n",
    "            vector_store=vector_store\n",
    "        )\n",
    "    index = VectorStoreIndex(\n",
    "            nodes_, storage_context=storage_context\n",
    "        )\n",
    "   \n",
    "    return index\n"
   ]
  },
  {
   "cell_type": "code",
   "execution_count": 36,
   "metadata": {},
   "outputs": [],
   "source": [
    "def set_node_ids(nodes_):\n",
    "    \"\"\"Function to set node ids for a list of nodes\"\"\"\n",
    "\n",
    "    for index, node in enumerate(nodes_):\n",
    "        node.id_ = f\"node_{index}\"\n",
    "\n",
    "    return nodes_\n"
   ]
  },
  {
   "cell_type": "code",
   "execution_count": 37,
   "metadata": {},
   "outputs": [],
   "source": [
    "from llama_index.core.node_parser import SentenceSplitter\n",
    "\n",
    "node_parser = SentenceSplitter(chunk_size=512, chunk_overlap=200)\n",
    "\n",
    "nodes = node_parser.get_nodes_from_documents(documents, show_progress=False)\n",
    "\n",
    "# set node ids\n",
    "\n",
    "nodes = set_node_ids(nodes)\n",
    "nodes_contextual = create_contextual_nodes(nodes)"
   ]
  },
  {
   "cell_type": "code",
   "execution_count": 41,
   "metadata": {},
   "outputs": [],
   "source": [
    "embedding_retriever = create_embedding_retriever(\n",
    "    nodes, similarity_top_k=3\n",
    ")\n",
    "\n",
    "\n",
    "contextual_embedding_retriever = create_embedding_retriever_contextual(\n",
    "    nodes_contextual, similarity_top_k=3    \n",
    ")"
   ]
  },
  {
   "cell_type": "markdown",
   "metadata": {},
   "source": [
    "### Normal Index retriever"
   ]
  },
  {
   "cell_type": "code",
   "execution_count": null,
   "metadata": {},
   "outputs": [],
   "source": [
    "index = embedding_retriever.as_query_engine(llm=llm,similarity_top_k=3)\n",
    "index.query(\"<Your_QUESTION>\")"
   ]
  },
  {
   "cell_type": "markdown",
   "metadata": {},
   "source": [
    "### Contextual embedding retriever"
   ]
  },
  {
   "cell_type": "code",
   "execution_count": 49,
   "metadata": {},
   "outputs": [
    {
     "data": {
      "text/plain": [
       "Response(response=' The updated guidance in the April 2024 NFIP Flood Insurance Manual requires the insurer to send a BRCV notice to the agent to obtain the updated BRCV and maintain supporting documentation in the policy file for Residential Condominium Buildings.', source_nodes=[NodeWithScore(node=TextNode(id_='node_656', embedding=None, metadata={'file_path': '/home/user/Aryan/Customer%20Support%20Agent%20using%20Gaudi%203/rec_call/benchmark.mp3.txt', 'file_name': 'benchmark.mp3.txt', 'file_type': 'text/plain', 'file_size': 1018779, 'creation_date': '2024-10-22', 'last_modified_date': '2024-10-22', 'context': 'assistant:  The provided chunk is part of the NFIP Flood Insurance Manual, specifically in Appendix I: Policyholder Communications, section IV, which deals with Severe Repetitive Loss Property Notices.'}, excluded_embed_metadata_keys=['file_name', 'file_type', 'file_size', 'creation_date', 'last_modified_date', 'last_accessed_date'], excluded_llm_metadata_keys=['file_name', 'file_type', 'file_size', 'creation_date', 'last_modified_date', 'last_accessed_date'], relationships={<NodeRelationship.SOURCE: '1'>: RelatedNodeInfo(node_id='ff2281e8-a371-4233-aeab-6da3f6163ede', node_type=<ObjectType.DOCUMENT: '4'>, metadata={'file_path': '/home/user/Aryan/Customer%20Support%20Agent%20using%20Gaudi%203/rec_call/benchmark.mp3.txt', 'file_name': 'benchmark.mp3.txt', 'file_type': 'text/plain', 'file_size': 1018779, 'creation_date': '2024-10-22', 'last_modified_date': '2024-10-22'}, hash='13b3b839ffd3c02877da573849091343a57f841b8d63c7fa55fc4b0c124f88a5'), <NodeRelationship.PREVIOUS: '2'>: RelatedNodeInfo(node_id='0364dabe-4cd1-45cb-9859-994f23864ec3', node_type=<ObjectType.TEXT: '1'>, metadata={'file_path': '/home/user/Aryan/Customer%20Support%20Agent%20using%20Gaudi%203/rec_call/benchmark.mp3.txt', 'file_name': 'benchmark.mp3.txt', 'file_type': 'text/plain', 'file_size': 1018779, 'creation_date': '2024-10-22', 'last_modified_date': '2024-10-22'}, hash='15a6c04e90cd2dcd88658cdd078c64e7cdd9b84c8272655244d230003f5bb5c1'), <NodeRelationship.NEXT: '3'>: RelatedNodeInfo(node_id='32371773-5457-49bb-98ea-91ba291ce1ec', node_type=<ObjectType.TEXT: '1'>, metadata={}, hash='be9db7c7b9eb0eed393f51ddb6940ab944be9b5d63a73cd171ee06093a9be9c8')}, text='The National Flood Insurance\\nProgram (NFIP) requires that the BRCV be evaluated every 3 years; it has been at least 3\\nyears since the BRCV has been updated.\\nThe BRCV as currently listed on the above-referenced policy is <INSERT CURRENT\\nBUILDING REPLACEMENT COST VALUE>. The amount of building coverage on the policy is\\n<INSERT CURRENT BUILDING COVERAGE>.\\nYou must provide the current BRCV, including the cost of the foundation.\\nFor a Residential Condominium Building Association Policy (RCBAP), you must\\nprovide documentation of the current BRCV or a statement signed by an officer or a\\nrepresentative of the Condominium Association confirming that the BRCV is still valid.\\nThe insurer must obtain the BRCV of the building (including the cost of the foundation)\\nbased on appraisals commonly used in the industry. The insurer must maintain\\nsupporting documentation of the BRCV. Supporting documentation must include a recent\\nappraisal stating the value of the building and its foundation on a Replacement Cost\\nValue basis to meet this requirement.\\nPlease be aware that to the extent that the amount of building coverage on the RCBAP is\\nnot in an amount equal to the lesser of 80 percent or more of the full replacement cost of\\nthe building at the time of a loss or the maximum amount of insurance available under the\\nNFIP, the Condominium Association may not be fully reimbursed for the loss.\\nIf you have any questions about the information in this letter, please contact <INSERT\\nINSURER CONTACT NAME AND TELEPHONE NUMBER>.\\ncc: Policyholder, Lender\\nAPRIL 2024 NFIP FLOOD INSURANCE MANUAL I • 27\\nAppendix I: Policyholder Communications\\nIV.Severe Repetitive Loss Property Notices\\nA. Overview\\nThe insurer sends this notice to the affected policyholder, agent, and lender 90 days before\\nthe policy expiration date to explain that the building has met the criteria for designation as\\nan SRL property and the policy must be written with the NFIP Direct’s Special Direct Facility.\\nThis notifies the respective parties that the Special Direct Facility will service the policy and\\nexplains how the policyholder can appeal the designation.', mimetype='text/plain', start_char_idx=834370, end_char_idx=836498, text_template='{metadata_str}\\n\\n{content}', metadata_template='{key}: {value}', metadata_seperator='\\n'), score=0.8665919899940491), NodeWithScore(node=TextNode(id_='node_655', embedding=None, metadata={'file_path': '/home/user/Aryan/Customer%20Support%20Agent%20using%20Gaudi%203/rec_call/benchmark.mp3.txt', 'file_name': 'benchmark.mp3.txt', 'file_type': 'text/plain', 'file_size': 1018779, 'creation_date': '2024-10-22', 'last_modified_date': '2024-10-22', 'context': 'assistant: 2. Residential Condominium Building Association Policy (RCBAP) Notification'}, excluded_embed_metadata_keys=['file_name', 'file_type', 'file_size', 'creation_date', 'last_modified_date', 'last_accessed_date'], excluded_llm_metadata_keys=['file_name', 'file_type', 'file_size', 'creation_date', 'last_modified_date', 'last_accessed_date'], relationships={<NodeRelationship.SOURCE: '1'>: RelatedNodeInfo(node_id='ff2281e8-a371-4233-aeab-6da3f6163ede', node_type=<ObjectType.DOCUMENT: '4'>, metadata={'file_path': '/home/user/Aryan/Customer%20Support%20Agent%20using%20Gaudi%203/rec_call/benchmark.mp3.txt', 'file_name': 'benchmark.mp3.txt', 'file_type': 'text/plain', 'file_size': 1018779, 'creation_date': '2024-10-22', 'last_modified_date': '2024-10-22'}, hash='13b3b839ffd3c02877da573849091343a57f841b8d63c7fa55fc4b0c124f88a5'), <NodeRelationship.PREVIOUS: '2'>: RelatedNodeInfo(node_id='94a2591d-1a36-4fca-8cbb-a73d525f2361', node_type=<ObjectType.TEXT: '1'>, metadata={'file_path': '/home/user/Aryan/Customer%20Support%20Agent%20using%20Gaudi%203/rec_call/benchmark.mp3.txt', 'file_name': 'benchmark.mp3.txt', 'file_type': 'text/plain', 'file_size': 1018779, 'creation_date': '2024-10-22', 'last_modified_date': '2024-10-22'}, hash='6ae18a9708980d34cad18ac436882a1ccb131657039233c652168c0cf73b1f2f'), <NodeRelationship.NEXT: '3'>: RelatedNodeInfo(node_id='15f87a8d-d597-4d97-9861-868605b61d77', node_type=<ObjectType.TEXT: '1'>, metadata={}, hash='9471d91847749820cbd43042cc553ec221eb19d0933ea9b8010e5a4c08dbdbff')}, text='The National Flood\\nInsurance Program (NFIP) requires that the BRCV be evaluated every 3 years; it has\\nbeen at least 3 years since the BRCV has been updated.\\nThe BRCV as currently listed on the above-referenced policy is <INSERT CURRENT\\nBUILDING REPLACEMENT COST VALUE>. The amount of building coverage on the policy is\\n<INSERT CURRENT BUILDING COVERAGE>.\\nYou must provide the current BRCV, including the cost of the foundation.\\nFor an Other Residential Building, Non-Residential Building, and Non-Residential Unit the\\ninsurer must obtain the BRCV for the building (including the cost of the foundation) to\\nmeet this requirement. The BRCV may be obtained by using common industry practices.\\nIf you have any questions about the information in this letter, please contact <INSERT\\nINSURER CONTACT NAME AND TELEPHONE NUMBER>.\\ncc: Policyholder, Lender\\nAPRIL 2024 NFIP FLOOD INSURANCE MANUAL I • 26\\nAppendix I: Policyholder Communications\\n2. Residential Condominium Building Association Policy (RCBAP) Notification\\nIMPORTANT FLOOD INSURANCE POLICY INFORMATION\\nAgent’s Name:\\nAgent’s Address:\\nRe: Policyholder’s Name:\\nProperty Address:\\nPolicy Number:\\nDear Agent:\\nThis letter is to inform you that the Building Replacement Cost Value (BRCV) on file\\nfor the building referenced above must now be updated. The National Flood Insurance\\nProgram (NFIP) requires that the BRCV be evaluated every 3 years; it has been at least 3\\nyears since the BRCV has been updated.\\nThe BRCV as currently listed on the above-referenced policy is <INSERT CURRENT\\nBUILDING REPLACEMENT COST VALUE>. The amount of building coverage on the policy is\\n<INSERT CURRENT BUILDING COVERAGE>.\\nYou must provide the current BRCV, including the cost of the foundation.\\nFor a Residential Condominium Building Association Policy (RCBAP), you must\\nprovide documentation of the current BRCV or a statement signed by an officer or a\\nrepresentative of the Condominium Association confirming that the BRCV is still valid.', mimetype='text/plain', start_char_idx=833076, end_char_idx=835043, text_template='{metadata_str}\\n\\n{content}', metadata_template='{key}: {value}', metadata_seperator='\\n'), score=0.8651032447814941), NodeWithScore(node=TextNode(id_='node_654', embedding=None, metadata={'file_path': '/home/user/Aryan/Customer%20Support%20Agent%20using%20Gaudi%203/rec_call/benchmark.mp3.txt', 'file_name': 'benchmark.mp3.txt', 'file_type': 'text/plain', 'file_size': 1018779, 'creation_date': '2024-10-22', 'last_modified_date': '2024-10-22', 'context': 'assistant:  The provided chunk is part of the NFIP Flood Insurance Manual, specifically Appendix I: Policyholder Communications, which outlines the requirements and procedures for updating the Building Replacement Cost Value (BRCV) for various types of buildings and units, including residential and non-residential properties.'}, excluded_embed_metadata_keys=['file_name', 'file_type', 'file_size', 'creation_date', 'last_modified_date', 'last_accessed_date'], excluded_llm_metadata_keys=['file_name', 'file_type', 'file_size', 'creation_date', 'last_modified_date', 'last_accessed_date'], relationships={<NodeRelationship.SOURCE: '1'>: RelatedNodeInfo(node_id='ff2281e8-a371-4233-aeab-6da3f6163ede', node_type=<ObjectType.DOCUMENT: '4'>, metadata={'file_path': '/home/user/Aryan/Customer%20Support%20Agent%20using%20Gaudi%203/rec_call/benchmark.mp3.txt', 'file_name': 'benchmark.mp3.txt', 'file_type': 'text/plain', 'file_size': 1018779, 'creation_date': '2024-10-22', 'last_modified_date': '2024-10-22'}, hash='13b3b839ffd3c02877da573849091343a57f841b8d63c7fa55fc4b0c124f88a5'), <NodeRelationship.PREVIOUS: '2'>: RelatedNodeInfo(node_id='a8ae696e-ef6c-441e-b709-1397fd224da6', node_type=<ObjectType.TEXT: '1'>, metadata={'file_path': '/home/user/Aryan/Customer%20Support%20Agent%20using%20Gaudi%203/rec_call/benchmark.mp3.txt', 'file_name': 'benchmark.mp3.txt', 'file_type': 'text/plain', 'file_size': 1018779, 'creation_date': '2024-10-22', 'last_modified_date': '2024-10-22'}, hash='99d79b8a30a504b0f81bbed413ef15bba2297c618d62a902225ad017e905ac33'), <NodeRelationship.NEXT: '3'>: RelatedNodeInfo(node_id='0364dabe-4cd1-45cb-9859-994f23864ec3', node_type=<ObjectType.TEXT: '1'>, metadata={}, hash='b0f699d25a40713ea26d38c7f09f5a68aedf576fd65f2fb358f549fc856869be')}, text='as described below:\\n1. Other Residential Building, Non-Residential Building, and Non-Residential Unit\\nThe insurer must obtain an updated BRCV and must maintain information on the method\\nused to determine the BRCV in the policy file.\\nSupporting BRCV documentation is not required if:\\n• The building occupancy is Non-Residential Manufactured/Mobile Building;\\n• The building description is either Storage/Tool Shed or Detached Garage; or\\n• The building or unit’s square footage is less than 1,000 square feet.\\n2. Residential Condominium Building\\nThe insurer must send a BRCV notice to the agent to obtain the updated BRCV and the\\nsupporting documentation must be maintained in the policy file.\\nAPRIL 2024 NFIP FLOOD INSURANCE MANUAL I • 25\\nAppendix I: Policyholder Communications\\nB. Sample BRCV Notifications\\n1. Other Residential Building, Non-Residential Building, and Non-Residential Unit Notification\\nIMPORTANT FLOOD INSURANCE POLICY INFORMATION\\nAgent’s Name:\\nAgent’s Address:\\nRe: Policyholder’s Name:\\nProperty Address:\\nPolicy Number:\\nDear Agent:\\nThis letter is to inform you that the Building Replacement Cost Value (BRCV) on file\\nfor the building or unit referenced above must now be updated. The National Flood\\nInsurance Program (NFIP) requires that the BRCV be evaluated every 3 years; it has\\nbeen at least 3 years since the BRCV has been updated.\\nThe BRCV as currently listed on the above-referenced policy is <INSERT CURRENT\\nBUILDING REPLACEMENT COST VALUE>. The amount of building coverage on the policy is\\n<INSERT CURRENT BUILDING COVERAGE>.\\nYou must provide the current BRCV, including the cost of the foundation.\\nFor an Other Residential Building, Non-Residential Building, and Non-Residential Unit the\\ninsurer must obtain the BRCV for the building (including the cost of the foundation) to\\nmeet this requirement. The BRCV may be obtained by using common industry practices.\\nIf you have any questions about the information in this letter, please contact <INSERT\\nINSURER CONTACT NAME AND TELEPHONE NUMBER>.', mimetype='text/plain', start_char_idx=831881, end_char_idx=833896, text_template='{metadata_str}\\n\\n{content}', metadata_template='{key}: {value}', metadata_seperator='\\n'), score=0.8633404970169067)], metadata={'node_656': {'file_path': '/home/user/Aryan/Customer%20Support%20Agent%20using%20Gaudi%203/rec_call/benchmark.mp3.txt', 'file_name': 'benchmark.mp3.txt', 'file_type': 'text/plain', 'file_size': 1018779, 'creation_date': '2024-10-22', 'last_modified_date': '2024-10-22', 'context': 'assistant:  The provided chunk is part of the NFIP Flood Insurance Manual, specifically in Appendix I: Policyholder Communications, section IV, which deals with Severe Repetitive Loss Property Notices.'}, 'node_655': {'file_path': '/home/user/Aryan/Customer%20Support%20Agent%20using%20Gaudi%203/rec_call/benchmark.mp3.txt', 'file_name': 'benchmark.mp3.txt', 'file_type': 'text/plain', 'file_size': 1018779, 'creation_date': '2024-10-22', 'last_modified_date': '2024-10-22', 'context': 'assistant: 2. Residential Condominium Building Association Policy (RCBAP) Notification'}, 'node_654': {'file_path': '/home/user/Aryan/Customer%20Support%20Agent%20using%20Gaudi%203/rec_call/benchmark.mp3.txt', 'file_name': 'benchmark.mp3.txt', 'file_type': 'text/plain', 'file_size': 1018779, 'creation_date': '2024-10-22', 'last_modified_date': '2024-10-22', 'context': 'assistant:  The provided chunk is part of the NFIP Flood Insurance Manual, specifically Appendix I: Policyholder Communications, which outlines the requirements and procedures for updating the Building Replacement Cost Value (BRCV) for various types of buildings and units, including residential and non-residential properties.'}})"
      ]
     },
     "execution_count": 49,
     "metadata": {},
     "output_type": "execute_result"
    }
   ],
   "source": [
    "ce_index = contextual_embedding_retriever.as_query_engine(llm=llm,similarity_top_k=3)\n",
    "ce_index.query(\"<Your_QUESTION>\")"
   ]
  }
 ],
 "metadata": {
  "kernelspec": {
   "display_name": "Python 3",
   "language": "python",
   "name": "python3"
  },
  "language_info": {
   "codemirror_mode": {
    "name": "ipython",
    "version": 3
   },
   "file_extension": ".py",
   "mimetype": "text/x-python",
   "name": "python",
   "nbconvert_exporter": "python",
   "pygments_lexer": "ipython3",
   "version": "3.10.11"
  }
 },
 "nbformat": 4,
 "nbformat_minor": 2
}
