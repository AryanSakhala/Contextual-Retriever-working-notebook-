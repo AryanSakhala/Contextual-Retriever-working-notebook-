{
 "cells": [
  {
   "cell_type": "markdown",
   "metadata": {},
   "source": [
    "### Import libraries"
   ]
  },
  {
   "cell_type": "code",
   "execution_count": 1,
   "metadata": {},
   "outputs": [
    {
     "name": "stderr",
     "output_type": "stream",
     "text": [
      "/home/user/.cache/pypoetry/virtualenvs/speak-diar-vSM-dlU2-py3.10/lib/python3.10/site-packages/tqdm/auto.py:21: TqdmWarning: IProgress not found. Please update jupyter and ipywidgets. See https://ipywidgets.readthedocs.io/en/stable/user_install.html\n",
      "  from .autonotebook import tqdm as notebook_tqdm\n"
     ]
    }
   ],
   "source": [
    "\n",
    "from llama_index.llms.openai_like import OpenAILike\n",
    "\n",
    "from llama_index.embeddings.openai import OpenAIEmbedding\n",
    "from llama_index.core import Settings\n",
    "from llama_index.core import SimpleDirectoryReader\n",
    "from llama_index.core import (\n",
    "   \n",
    "    Settings,\n",
    "    StorageContext,\n",
    "    VectorStoreIndex,\n",
    ")\n",
    "\n",
    "from llama_index.core.llms import ChatMessage\n",
    "from llama_index.vector_stores.milvus import MilvusVectorStore\n",
    "\n",
    "from llama_index.embeddings.huggingface import HuggingFaceEmbedding"
   ]
  },
  {
   "cell_type": "markdown",
   "metadata": {},
   "source": [
    "### Parameter & models & Settings"
   ]
  },
  {
   "cell_type": "code",
   "execution_count": 3,
   "metadata": {},
   "outputs": [],
   "source": [
    "Settings.embed_model = HuggingFaceEmbedding(model_name=\"BAAI/bge-small-en-v1.5\")\n",
    "\n",
    "similarity_top_k = 3\n",
    "llm = OpenAILike(\n",
    "        model=\"meta-llama/Llama-3.1-70B-Instruct\",\n",
    "        api_base=\"<YOUR_API_URI>\",\n",
    "        api_key=\"test123\",\n",
    "        \n",
    "        temperature=0,\n",
    "        max_tokens=1024\n",
    "    )\n"
   ]
  },
  {
   "cell_type": "markdown",
   "metadata": {},
   "source": [
    "### Loading Documents"
   ]
  },
  {
   "cell_type": "code",
   "execution_count": 2,
   "metadata": {},
   "outputs": [],
   "source": [
    "documents = SimpleDirectoryReader(\n",
    "    \"<PATH_TO_FOLDER_WHERE_ALL_DOCUMENTS_ARE_PRESENT>\",\n",
    ").load_data()\n"
   ]
  },
  {
   "cell_type": "markdown",
   "metadata": {},
   "source": [
    "### Contextual Node Creation"
   ]
  },
  {
   "cell_type": "code",
   "execution_count": 34,
   "metadata": {},
   "outputs": [],
   "source": [
    "def create_contextual_nodes(nodes_):\n",
    "    \"\"\"Function to create contextual nodes for a list of nodes\"\"\"\n",
    "    nodes_modified = []\n",
    "    for node in nodes_:\n",
    "        new_node = copy.deepcopy(node)\n",
    "        messages = [\n",
    "            ChatMessage(role=\"system\", content=\"You are helpful AI Assitant.\"),\n",
    "            ChatMessage(\n",
    "                role=\"user\",\n",
    "                content=[\n",
    "                    \n",
    "                    {\n",
    "                        \"text\": prompt_chunk.format(CHUNK_CONTENT=node.text),\n",
    "                        \"type\": \"text\",\n",
    "                    },\n",
    "                ],\n",
    "            ),\n",
    "        ]\n",
    "        new_node.metadata[\"context\"] = str(\n",
    "            llm.chat(\n",
    "                messages,\n",
    "            )\n",
    "        )\n",
    "        nodes_modified.append(new_node)\n",
    "\n",
    "    return nodes_modified\n",
    "\n"
   ]
  },
  {
   "cell_type": "markdown",
   "metadata": {},
   "source": [
    "### Contextual Embdedding"
   ]
  },
  {
   "cell_type": "code",
   "execution_count": 35,
   "metadata": {},
   "outputs": [],
   "source": [
    "\n",
    "def create_embedding_retriever_contextual(nodes_, similarity_top_k=2):\n",
    "    \"\"\"Function to create an embedding retriever for a list of nodes\"\"\"\n",
    "    vector_store = MilvusVectorStore(\n",
    "            uri=\"http://localhost:19530\", collection_name=\"scenarios_contextual\", dim=384,overwrite=True\n",
    "        )\n",
    "   \n",
    "    storage_context = StorageContext.from_defaults(\n",
    "            vector_store=vector_store\n",
    "        )\n",
    "    index = VectorStoreIndex(\n",
    "            nodes_, storage_context=storage_context\n",
    "        )\n",
    "   \n",
    "    return index\n",
    "\n",
    "\n",
    "\n"
   ]
  },
  {
   "cell_type": "markdown",
   "metadata": {},
   "source": [
    "### Normal Embedding For comaparison...."
   ]
  },
  {
   "cell_type": "code",
   "execution_count": null,
   "metadata": {},
   "outputs": [],
   "source": [
    "def create_embedding_retriever(nodes_, similarity_top_k=2):\n",
    "    \"\"\"Function to create an embedding retriever for a list of nodes\"\"\"\n",
    "    vector_store = MilvusVectorStore(\n",
    "            uri=\"http://localhost:19530\", collection_name=\"scenarios\", dim=384,overwrite=True\n",
    "        )\n",
    "   \n",
    "    storage_context = StorageContext.from_defaults(\n",
    "            vector_store=vector_store\n",
    "        )\n",
    "    index = VectorStoreIndex(\n",
    "            nodes_, storage_context=storage_context\n",
    "        )\n",
    "   \n",
    "    return index\n"
   ]
  },
  {
   "cell_type": "code",
   "execution_count": 36,
   "metadata": {},
   "outputs": [],
   "source": [
    "def set_node_ids(nodes_):\n",
    "    \"\"\"Function to set node ids for a list of nodes\"\"\"\n",
    "\n",
    "    for index, node in enumerate(nodes_):\n",
    "        node.id_ = f\"node_{index}\"\n",
    "\n",
    "    return nodes_\n"
   ]
  },
  {
   "cell_type": "code",
   "execution_count": 37,
   "metadata": {},
   "outputs": [],
   "source": [
    "from llama_index.core.node_parser import SentenceSplitter\n",
    "\n",
    "node_parser = SentenceSplitter(chunk_size=512, chunk_overlap=200)\n",
    "\n",
    "nodes = node_parser.get_nodes_from_documents(documents, show_progress=False)\n",
    "\n",
    "# set node ids\n",
    "\n",
    "nodes = set_node_ids(nodes)\n",
    "nodes_contextual = create_contextual_nodes(nodes)"
   ]
  },
  {
   "cell_type": "code",
   "execution_count": 41,
   "metadata": {},
   "outputs": [],
   "source": [
    "embedding_retriever = create_embedding_retriever(\n",
    "    nodes, similarity_top_k=3\n",
    ")\n",
    "\n",
    "\n",
    "contextual_embedding_retriever = create_embedding_retriever_contextual(\n",
    "    nodes_contextual, similarity_top_k=3    \n",
    ")"
   ]
  },
  {
   "cell_type": "markdown",
   "metadata": {},
   "source": [
    "### Normal Index retriever"
   ]
  },
  {
   "cell_type": "code",
   "execution_count": null,
   "metadata": {},
   "outputs": [],
   "source": [
    "index = embedding_retriever.as_query_engine(llm=llm,similarity_top_k=3)\n",
    "index.query(\"<Your_QUESTION>\")"
   ]
  },
  {
   "cell_type": "markdown",
   "metadata": {},
   "source": [
    "### Contextual embedding retriever"
   ]
  },
  {
   "cell_type": "code",
   "execution_count": 1,
   "metadata": {},
   "outputs": [],
   "source": [
    "ce_index = contextual_embedding_retriever.as_query_engine(llm=llm,similarity_top_k=3)\n",
    "ce_index.query(\"<Your_QUESTION>\")"
   ]
  },
  {
   "cell_type": "code",
   "execution_count": null,
   "metadata": {},
   "outputs": [],
   "source": []
  }
 ],
 "metadata": {
  "kernelspec": {
   "display_name": "Python 3",
   "language": "python",
   "name": "python3"
  },
  "language_info": {
   "codemirror_mode": {
    "name": "ipython",
    "version": 3
   },
   "file_extension": ".py",
   "mimetype": "text/x-python",
   "name": "python",
   "nbconvert_exporter": "python",
   "pygments_lexer": "ipython3",
   "version": "3.10.11"
  }
 },
 "nbformat": 4,
 "nbformat_minor": 2
}
